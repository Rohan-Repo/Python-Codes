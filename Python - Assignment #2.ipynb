{
 "cells": [
  {
   "cell_type": "markdown",
   "metadata": {},
   "source": [
    "# Python Assignment #2  for iNeuron "
   ]
  },
  {
   "cell_type": "markdown",
   "metadata": {},
   "source": [
    "### 1 - Write a Python Program to implement your own myreduce() function which works exactly like Python's built-in function reduce()"
   ]
  },
  {
   "cell_type": "code",
   "execution_count": 175,
   "metadata": {},
   "outputs": [],
   "source": [
    "def my_reduce( functionToCall, collection, operator='+' ):\n",
    "    val = 0\n",
    "    \n",
    "    for i in collection:\n",
    "        if operator == '-':\n",
    "            val = val - functionToCall(i)\n",
    "        elif operator == '*':\n",
    "            val = val - functionToCall(i)\n",
    "        elif operator == '/':\n",
    "            val = val - functionToCall(i)\n",
    "        elif operator == '%':\n",
    "            val = val - functionToCall(i)\n",
    "        else :\n",
    "            val = val + functionToCall(i)\n",
    "    \n",
    "    return val"
   ]
  },
  {
   "cell_type": "code",
   "execution_count": 176,
   "metadata": {},
   "outputs": [
    {
     "name": "stdout",
     "output_type": "stream",
     "text": [
      "1 to 10 Squares Sum =  385\n",
      "1 to 10 Squares Difference =  -3025\n",
      "1 to 10 Square-Root Product =  -22.4682781862041\n"
     ]
    }
   ],
   "source": [
    "import math\n",
    "\n",
    "print( '1 to 10 Squares Sum = ', my_reduce(lambda x : x**2, list(range(11)) ) ) # By Default Operator = +\n",
    "print( '1 to 10 Squares Difference = ', my_reduce(lambda x : x**3, set(range(11)), '-') )\n",
    "print( '1 to 10 Square-Root Product = ', my_reduce(lambda x : math.sqrt(x), tuple(range(11)), '*') )"
   ]
  },
  {
   "cell_type": "markdown",
   "metadata": {},
   "source": [
    "### 2 - Write a Python program to implement your own myfilter() function which works exactly like Python's built-in function filter()"
   ]
  },
  {
   "cell_type": "code",
   "execution_count": 177,
   "metadata": {},
   "outputs": [],
   "source": [
    "def my_filter( functionToCall, collection ):\n",
    "    \n",
    "    if type(collection) == list:\n",
    "        new_collection = list()\n",
    "    elif type(collection) == set:\n",
    "        new_collection = set()\n",
    "    \n",
    "    for i in collection:\n",
    "        if functionToCall(i) == True:\n",
    "            if type(collection) == list:\n",
    "                new_collection.append(i)\n",
    "            elif type(collection) == set:\n",
    "                new_collection.add(i)\n",
    "    \n",
    "    return new_collection"
   ]
  },
  {
   "cell_type": "code",
   "execution_count": 178,
   "metadata": {},
   "outputs": [
    {
     "name": "stdout",
     "output_type": "stream",
     "text": [
      "20 to 40 Even Numbers =  [20, 22, 24, 26, 28, 30, 32, 34, 36, 38, 40]\n",
      "Set = {10, 12, -8, 56, -5, -4, -3, -2} and  Positive Numbers = {56, 10, 12}\n"
     ]
    }
   ],
   "source": [
    "print( '20 to 40 Even Numbers = ', my_filter(lambda x : x%2==0, list(range(20,41)) ) ) \n",
    "num_set = set([ 12,-2,-4,10,-5,-3,-8,56,12,10 ] )\n",
    "\n",
    "print( 'Set = {} and  Positive Numbers = {}'.format(num_set, my_filter(lambda x : x>=0, num_set) )  )"
   ]
  },
  {
   "cell_type": "markdown",
   "metadata": {},
   "source": [
    "### 3 - Implement List comprehensions to produce the following lists."
   ]
  },
  {
   "cell_type": "code",
   "execution_count": 179,
   "metadata": {},
   "outputs": [
    {
     "name": "stdout",
     "output_type": "stream",
     "text": [
      "ACADGILD List =  ['A', 'C', 'A', 'D', 'G', 'I', 'L', 'D']\n"
     ]
    }
   ],
   "source": [
    "print( 'ACADGILD List = ', [ i for i in 'ACADGILD' ] )"
   ]
  },
  {
   "cell_type": "code",
   "execution_count": 180,
   "metadata": {},
   "outputs": [
    {
     "name": "stdout",
     "output_type": "stream",
     "text": [
      "Required List =  ['x', 'xx', 'xxx', 'xxxx', 'y', 'yy', 'yyy', 'yyyy', 'z', 'zz', 'zzz', 'zzzz']\n"
     ]
    }
   ],
   "source": [
    "print( 'Required List = ', [ 'x'*i for i in range(1,5)  ] + [ 'y'*i for i in range(1,5)  ] + [ 'z'*i for i in range(1,5)  ] )"
   ]
  },
  {
   "cell_type": "code",
   "execution_count": 181,
   "metadata": {},
   "outputs": [
    {
     "name": "stdout",
     "output_type": "stream",
     "text": [
      "Original Lists =  ['x', 'xx', 'xxx', 'xxxx']  -  ['y', 'yy', 'yyy', 'yyyy']  -  ['z', 'zz', 'zzz', 'zzzz']\n",
      "Combined List =  ['x', 'y', 'z', 'xx', 'yy', 'zz', 'xxx', 'yyy', 'zzz', 'xxxx', 'yyyy', 'zzzz']\n"
     ]
    }
   ],
   "source": [
    "l1 = [ 'x'*i for i in range(1,5)  ]\n",
    "l2 = [ 'y'*i for i in range(1,5)  ]\n",
    "l3 = [ 'z'*i for i in range(1,5)  ]\n",
    "new_list = []\n",
    "print( 'Original Lists = ', l1, ' - ', l2, ' - ', l3 )\n",
    "\n",
    "for i in range(4):\n",
    "    new_list.append( l1[i] )\n",
    "    new_list.append( l2[i] )\n",
    "    new_list.append( l3[i] )\n",
    "\n",
    "print( 'Combined List = ', new_list )"
   ]
  },
  {
   "cell_type": "code",
   "execution_count": 182,
   "metadata": {},
   "outputs": [
    {
     "name": "stdout",
     "output_type": "stream",
     "text": [
      "Required List =  [[2], [3], [4], [3], [4], [5], [4], [5], [6]]\n"
     ]
    }
   ],
   "source": [
    "print( 'Required List = ', [ [i] for i in range(2,5) ] + [ [i] for i in range(3,6) ] + [ [i] for i in range(4,7) ]  )"
   ]
  },
  {
   "cell_type": "code",
   "execution_count": 183,
   "metadata": {},
   "outputs": [
    {
     "name": "stdout",
     "output_type": "stream",
     "text": [
      "Required List =  [[2, 3, 4, 5], [3, 4, 5, 6], [4, 5, 6, 7], [5, 6, 7, 8]]\n"
     ]
    }
   ],
   "source": [
    "l1 = [ i for i in range(2,6) ]\n",
    "l2 = [ i for i in range(3,7) ]\n",
    "l3 = [ i for i in range(4,8) ]\n",
    "l4 = [ i for i in range(5,9) ]\n",
    "\n",
    "print( 'Required List = ', [l1]+[l2]+[l3]+[l4])"
   ]
  },
  {
   "cell_type": "code",
   "execution_count": 184,
   "metadata": {},
   "outputs": [
    {
     "name": "stdout",
     "output_type": "stream",
     "text": [
      "Required List =  [(1, 1), (2, 1), (3, 1), (1, 2), (2, 2), (3, 2), (1, 3), (2, 3), (3, 3)]\n"
     ]
    }
   ],
   "source": [
    "print( 'Required List = ', [ (j,i) for i in range(1,4) for j in range(1,4) ] )"
   ]
  },
  {
   "cell_type": "markdown",
   "metadata": {},
   "source": [
    "### 4 - Implement a function longestWord() that takes a list of words and returns the longest one."
   ]
  },
  {
   "cell_type": "code",
   "execution_count": 185,
   "metadata": {},
   "outputs": [],
   "source": [
    "def longestWord( wordList ):\n",
    "    longWord = ''\n",
    "    maxSize = 0\n",
    "    \n",
    "    for word in wordList:\n",
    "        if len(word) > maxSize:\n",
    "            maxSize = len(word)\n",
    "            longWord = word\n",
    "    \n",
    "    return longWord"
   ]
  },
  {
   "cell_type": "code",
   "execution_count": 186,
   "metadata": {},
   "outputs": [
    {
     "name": "stdout",
     "output_type": "stream",
     "text": [
      "The Word List =  ['Bonjour', 'Guten Tag', 'Ahlan bik', 'Shukran', 'Vielen Danke', 'Merci Beaucoup'] \n",
      " The Longest Word =  Merci Beaucoup\n"
     ]
    }
   ],
   "source": [
    "wordList = [ 'Bonjour', 'Guten Tag', 'Ahlan bik', 'Shukran', 'Vielen Danke', 'Merci Beaucoup' ]\n",
    "print( 'The Word List = ',  wordList, '\\n The Longest Word = ', longestWord(wordList) )"
   ]
  },
  {
   "cell_type": "markdown",
   "metadata": {},
   "source": [
    "### 5 - Write a function filter_long_words() that takes a list of words and an integer n and returns the list of words that are longer than n."
   ]
  },
  {
   "cell_type": "code",
   "execution_count": 187,
   "metadata": {},
   "outputs": [],
   "source": [
    "def filter_long_words(wordList, lenToCheck):\n",
    "    longerWordList = []\n",
    "    \n",
    "    for word in wordList:\n",
    "        if len(word) > lenToCheck:\n",
    "            longerWordList.append( word )\n",
    "    \n",
    "    return longerWordList"
   ]
  },
  {
   "cell_type": "code",
   "execution_count": 188,
   "metadata": {},
   "outputs": [
    {
     "name": "stdout",
     "output_type": "stream",
     "text": [
      "The Original Word List =  ['Bonjour', 'Guten Tag', 'Ahlan bik', 'Shukran', 'Vielen Danke', 'Merci Beaucoup']\n",
      "Words longer than 8 are = ['Guten Tag', 'Ahlan bik', 'Vielen Danke', 'Merci Beaucoup'] \n"
     ]
    }
   ],
   "source": [
    "wordList = [ 'Bonjour', 'Guten Tag', 'Ahlan bik', 'Shukran', 'Vielen Danke', 'Merci Beaucoup' ]\n",
    "lenToCheck = 8\n",
    "print( 'The Original Word List = ',  wordList )\n",
    "print( 'Words longer than {0} are = {1} '.format(lenToCheck,filter_long_words(wordList,lenToCheck)) )"
   ]
  },
  {
   "cell_type": "markdown",
   "metadata": {},
   "source": [
    "### 6 - Write a Python program using function concept that maps list of words into a list of integers representing the lengths of the corresponding words ."
   ]
  },
  {
   "cell_type": "code",
   "execution_count": 189,
   "metadata": {},
   "outputs": [],
   "source": [
    "def getWordLength(wordList):\n",
    "    wordLength = []\n",
    "    \n",
    "    for word in wordList:\n",
    "        wordLength.append( len(word) )\n",
    "    \n",
    "    return wordLength"
   ]
  },
  {
   "cell_type": "code",
   "execution_count": 190,
   "metadata": {},
   "outputs": [
    {
     "name": "stdout",
     "output_type": "stream",
     "text": [
      "The Original Word List =  ['Bonjour', 'Guten Tag', 'Ahlan bik', 'Shukran', 'Vielen Danke', 'Merci Beaucoup']\n",
      "The Word Length List =  [7, 9, 9, 7, 12, 14]\n"
     ]
    }
   ],
   "source": [
    "wordList = [ 'Bonjour', 'Guten Tag', 'Ahlan bik', 'Shukran', 'Vielen Danke', 'Merci Beaucoup' ]\n",
    "print( 'The Original Word List = ',  wordList )\n",
    "print( 'The Word Length List = ',  getWordLength(wordList) )"
   ]
  },
  {
   "cell_type": "markdown",
   "metadata": {},
   "source": [
    "### 7 - Write a Python function which takes a character (i.e. a string of length 1) and returns True if it is a vowel, False otherwise."
   ]
  },
  {
   "cell_type": "code",
   "execution_count": 191,
   "metadata": {},
   "outputs": [],
   "source": [
    "def checkIfVowel(word):\n",
    "    word = word.lower()\n",
    "    if word == 'a' or word == 'e' or word == 'i' or word == 'o' or word == 'u':\n",
    "        return True\n",
    "    else:\n",
    "        return False "
   ]
  },
  {
   "cell_type": "code",
   "execution_count": 192,
   "metadata": {},
   "outputs": [
    {
     "name": "stdout",
     "output_type": "stream",
     "text": [
      "a is a Vowel = True\n",
      "r is a Vowel = False\n",
      "D is a Vowel = False\n",
      "U is a Vowel = True\n"
     ]
    }
   ],
   "source": [
    "print( '{} is a Vowel = {}'.format('a',checkIfVowel('a')) )\n",
    "print( '{} is a Vowel = {}'.format('r',checkIfVowel('r')) )\n",
    "print( '{} is a Vowel = {}'.format('D',checkIfVowel('D')) )\n",
    "print( '{} is a Vowel = {}'.format('U',checkIfVowel('U')) )"
   ]
  },
  {
   "cell_type": "markdown",
   "metadata": {},
   "source": [
    "### 8 - Write a Python Program(with class concepts) to find the area of the triangle using OOP Concepts"
   ]
  },
  {
   "cell_type": "code",
   "execution_count": 193,
   "metadata": {},
   "outputs": [],
   "source": [
    "import math"
   ]
  },
  {
   "cell_type": "code",
   "execution_count": 194,
   "metadata": {},
   "outputs": [],
   "source": [
    "class Shape():\n",
    "    def __init__(self,len1,len2,len3):\n",
    "        self.len1 = len1\n",
    "        self.len2 = len2\n",
    "        self.len3 = len3\n",
    "\n",
    "class Traingle(Shape):\n",
    "    def __init__(self,len1,len2,len3):\n",
    "        Shape.__init__(self,len1,len2,len3)\n",
    "        \n",
    "    def calculateArea(self):\n",
    "        semiPerimeter = (self.len1 + self.len2 + self.len3) / 2\n",
    "        traingleArea = math.sqrt( (semiPerimeter) * \n",
    "                                 (semiPerimeter-self.len1) * (semiPerimeter-self.len2) * (semiPerimeter-self.len3) )\n",
    "        return semiPerimeter,traingleArea"
   ]
  },
  {
   "cell_type": "code",
   "execution_count": 195,
   "metadata": {},
   "outputs": [
    {
     "name": "stdout",
     "output_type": "stream",
     "text": [
      "The Traingle with Sides 3, 4 and 5\n",
      "Semi-perimeter =  6.0 and Area of Traingle = 6.0\n"
     ]
    }
   ],
   "source": [
    "s1 = 3\n",
    "s2 = 4\n",
    "s3 = 5\n",
    "\n",
    "triangleObj = Traingle(s1,s2,s3)\n",
    "print( 'The Traingle with Sides {}, {} and {}'.format(s1,s2,s3) )\n",
    "semiPerimeter,traingleArea = triangleObj.calculateArea()\n",
    "print( 'Semi-perimeter =  {} and Area of Traingle = {}'.format(semiPerimeter,traingleArea) )\n"
   ]
  }
 ],
 "metadata": {
  "kernelspec": {
   "display_name": "Python 3",
   "language": "python",
   "name": "python3"
  },
  "language_info": {
   "codemirror_mode": {
    "name": "ipython",
    "version": 3
   },
   "file_extension": ".py",
   "mimetype": "text/x-python",
   "name": "python",
   "nbconvert_exporter": "python",
   "pygments_lexer": "ipython3",
   "version": "3.7.7"
  }
 },
 "nbformat": 4,
 "nbformat_minor": 4
}
