{
 "cells": [
  {
   "cell_type": "markdown",
   "metadata": {},
   "source": [
    "# Python Assignment #3  for iNeuron"
   ]
  },
  {
   "cell_type": "markdown",
   "metadata": {},
   "source": [
    "### 1- Write a function to compute 5/0 and use try/except to catch the exceptions."
   ]
  },
  {
   "cell_type": "code",
   "execution_count": 35,
   "metadata": {},
   "outputs": [
    {
     "name": "stdout",
     "output_type": "stream",
     "text": [
      " ==-- Error Function Call --== \n",
      "ZeroDivisionError - You cannot divide any number by Zero\n",
      "End of my Function!!\n",
      "\n",
      " ==--  Normal Function Call --== \n",
      "Division Value =  3.0\n",
      "End of my Function!!\n"
     ]
    }
   ],
   "source": [
    "def myDivFun(num,deno):\n",
    "    \n",
    "    try:\n",
    "        if deno == 0:\n",
    "            raise ArithmeticError()\n",
    "        else:\n",
    "            print( 'Division Value = ', (num/deno) )\n",
    "    \n",
    "    except( ArithmeticError ):\n",
    "        if ZeroDivisionError:\n",
    "            print( 'ZeroDivisionError - You cannot divide any number by Zero')\n",
    "        else:\n",
    "            print( ArithmeticError.with_traceback() )\n",
    "    \n",
    "    finally:\n",
    "        print( 'End of my Function!!' )\n",
    "\n",
    "print( ' ==-- Error Function Call --== ')\n",
    "myDivFun(5,0)\n",
    "print( '\\n ==--  Normal Function Call --== ')\n",
    "myDivFun(12,4)"
   ]
  },
  {
   "cell_type": "markdown",
   "metadata": {},
   "source": [
    "### 2- Implement a Python program to generate all sentences where subject is in [\"Americans\",\"Indians\"] and verb is in [\"Play\", \"watch\"] and the object is in [\"Baseball\",\"cricket\"]."
   ]
  },
  {
   "cell_type": "code",
   "execution_count": 19,
   "metadata": {},
   "outputs": [
    {
     "name": "stdout",
     "output_type": "stream",
     "text": [
      "Americans play Baseball\n",
      "Americans play Cricket\n",
      "Americans watch Baseball\n",
      "Americans watch Cricket\n",
      "Indians play Baseball\n",
      "Indians play Cricket\n",
      "Indians watch Baseball\n",
      "Indians watch Cricket\n"
     ]
    }
   ],
   "source": [
    "subjects=[\"Americans\",\"Indians\"]\n",
    "verbs=[\"play\",\"watch\"]\n",
    "objects=[\"Baseball\",\"Cricket\"]\n",
    "\n",
    "# for i in range(2):\n",
    "#     for j in range(2):\n",
    "#         for k in range(2):\n",
    "#             print( subjects[i] + ' ' + verbs[j] + ' ' + objects[k] )\n",
    "\n",
    "# comb_list = [ subjects[i] + ' ' + verbs[j] + ' ' + objects[k]  for i in range(2) for j in range(2) for k in range(2) ]\n",
    "# for i in comb_list:\n",
    "#     print( i )\n",
    "    \n",
    "print( '\\n'.join( [ subjects[i] + ' ' + verbs[j] + ' ' + objects[k]  for i in range(2) for j in range(2) for k in range(2) ] ) )"
   ]
  },
  {
   "cell_type": "markdown",
   "metadata": {},
   "source": [
    "### 3 - Write a function so that the columns of the output matrix are powers of the input vector. \n",
    "- The order of the powers is determined by the increasing boolean argument. Specifically, when increasing is False, the i-th output column is the input vector raised element-wise to the power of N - i - 1."
   ]
  },
  {
   "cell_type": "code",
   "execution_count": 1,
   "metadata": {},
   "outputs": [],
   "source": [
    "import numpy as np"
   ]
  },
  {
   "cell_type": "code",
   "execution_count": 55,
   "metadata": {},
   "outputs": [],
   "source": [
    "# oneArray = np.ones(4, dtype=np.int8).reshape( 4,1 )\n",
    "# # myMat = np.array(  ).reshape(len(myList),1)\n",
    "# # myMat\n",
    "# # listArr = np.array( [3,5,2,10], dtype=np.int8 ).reshape( 4,1 )\n",
    "# # listArr\n",
    "# listArr = np.array( [3,5,2,10] ).reshape( 4,1 )\n",
    "# combArr = np.concatenate( (oneArray,listArr,listArr**2,listArr**3), axis=1 )\n",
    "# np.flip( combArr, axis=1 )\n",
    "# # oneArray\n",
    "# # listArr"
   ]
  },
  {
   "cell_type": "code",
   "execution_count": 56,
   "metadata": {},
   "outputs": [],
   "source": [
    "# myMat = np.array( [3,5,2,10] )\n",
    "# print( 'Basic Matrix :', myMat )\n",
    "# vanderMat = np.vander( myMat )\n",
    "# print( 'Vander Matrix : \\n', vanderMat )"
   ]
  },
  {
   "cell_type": "code",
   "execution_count": 89,
   "metadata": {},
   "outputs": [
    {
     "name": "stdout",
     "output_type": "stream",
     "text": [
      "Base List :  [3, 5, 2, 10]\n",
      "\n",
      "Vander Array Manual Way:\n",
      "[[  27    9    3    1]\n",
      " [ 125   25    5    1]\n",
      " [   8    4    2    1]\n",
      " [1000  100   10    1]]\n",
      "\n",
      "Vander Array Numpy Way:\n",
      "[[  27    9    3    1]\n",
      " [ 125   25    5    1]\n",
      " [   8    4    2    1]\n",
      " [1000  100   10    1]]\n"
     ]
    }
   ],
   "source": [
    "baseList = [3,5,2,10]\n",
    "\n",
    "# Arithmatic Way\n",
    "baseArray = np.array( baseList ).reshape( len(baseList), 1 )\n",
    "\n",
    "onesArray = np.ones(len(baseList), dtype=np.int8).reshape( len(baseList), 1 )\n",
    "\n",
    "combArray = np.concatenate( (onesArray, baseArray, baseArray**2, baseArray**3), axis=1 )\n",
    "\n",
    "combArray = np.flip( combArr, axis=1 )\n",
    "\n",
    "# Numpy Way\n",
    "numpyMat = np.array( baseList )\n",
    "vanderNumpyMat = np.vander( numpyMat )\n",
    "\n",
    "\n",
    "print( 'Base List : ', baseList )\n",
    "print( '\\nVander Array Manual Way:' )\n",
    "print( combArray )\n",
    "print( '\\nVander Array Numpy Way:' )\n",
    "print( vanderNumpyMat )"
   ]
  },
  {
   "cell_type": "code",
   "execution_count": 90,
   "metadata": {},
   "outputs": [
    {
     "name": "stdout",
     "output_type": "stream",
     "text": [
      "Base List :  [7, 4, 10]\n",
      "\n",
      "Vander Array Manual Way:\n",
      "[[ 49   7   1]\n",
      " [ 16   4   1]\n",
      " [100  10   1]]\n",
      "\n",
      "Vander Array Numpy Way:\n",
      "[[ 49   7   1]\n",
      " [ 16   4   1]\n",
      " [100  10   1]]\n"
     ]
    }
   ],
   "source": [
    "baseList = [7,4,10]\n",
    "\n",
    "# Arithmatic Way\n",
    "baseArr2 = np.array( baseList ).reshape( len(baseList), 1 )\n",
    "\n",
    "onesArr2 = np.ones(len(baseList), dtype=np.int8).reshape( len(baseList), 1 )\n",
    "\n",
    "combArr2 = np.concatenate( (onesArr2, baseArr2, baseArr2**2), axis=1 )\n",
    "\n",
    "combArr2 = np.flip( combArr2, axis=1 )\n",
    "\n",
    "# Numpy Way\n",
    "numpyMat = np.array( baseList )\n",
    "vanderNumpyMat = np.vander( numpyMat )\n",
    "\n",
    "\n",
    "print( 'Base List : ', baseList )\n",
    "print( '\\nVander Array Manual Way:' )\n",
    "print( combArr2 )\n",
    "print( '\\nVander Array Numpy Way:' )\n",
    "print( vanderNumpyMat )"
   ]
  },
  {
   "cell_type": "code",
   "execution_count": null,
   "metadata": {},
   "outputs": [],
   "source": []
  }
 ],
 "metadata": {
  "kernelspec": {
   "display_name": "Python 3",
   "language": "python",
   "name": "python3"
  },
  "language_info": {
   "codemirror_mode": {
    "name": "ipython",
    "version": 3
   },
   "file_extension": ".py",
   "mimetype": "text/x-python",
   "name": "python",
   "nbconvert_exporter": "python",
   "pygments_lexer": "ipython3",
   "version": "3.7.7"
  }
 },
 "nbformat": 4,
 "nbformat_minor": 4
}
